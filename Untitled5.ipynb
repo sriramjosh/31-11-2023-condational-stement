{
 "cells": [
  {
   "cell_type": "code",
   "execution_count": 3,
   "id": "bb21eff2",
   "metadata": {},
   "outputs": [
    {
     "name": "stdout",
     "output_type": "stream",
     "text": [
      "enter your age21\n",
      "your are an adult\n"
     ]
    }
   ],
   "source": [
    "age = int(input(\"enter your age\"))\n",
    "if age >= 18:\n",
    "    print(\"your are an adult\")\n",
    "else:\n",
    "        print(\"your are a minor\")"
   ]
  },
  {
   "cell_type": "markdown",
   "id": "7336d8ba",
   "metadata": {},
   "source": [
    "## Write a Python program that asks the user for their age and prints \"You are an adult\" if the age is 18 or older, otherwise prints \"You are a minor'.\n",
    " ### question 1"
   ]
  },
  {
   "cell_type": "code",
   "execution_count": 7,
   "id": "5e2dc8d4",
   "metadata": {},
   "outputs": [
    {
     "name": "stdout",
     "output_type": "stream",
     "text": [
      "enter your age23\n",
      "your are an adult\n"
     ]
    }
   ],
   "source": [
    "age = int(input(\"enter your age\"))\n",
    "if age >= 18:\n",
    "    print(\"your are an adult\")\n",
    "else:\n",
    "    print(\"your are a minor\")\n",
    "    "
   ]
  },
  {
   "cell_type": "markdown",
   "id": "52c16f93",
   "metadata": {},
   "source": [
    "#### qWrite a program that takes a numerical grade (out of 100) as input and prints the corresponding letter grade according to the following scale:\n",
    " 90-100: A\n",
    " 80-89: B\n",
    " 70-79: C\n",
    " 60-69: D\n",
    " Below 60: F\n",
    "#####  question 2"
   ]
  },
  {
   "cell_type": "code",
   "execution_count": 8,
   "id": "f7b63fe7",
   "metadata": {},
   "outputs": [
    {
     "name": "stdout",
     "output_type": "stream",
     "text": [
      "enter your numerical grage(out of 100)65\n",
      "d\n"
     ]
    }
   ],
   "source": [
    "numerical_grade = int(input(\"enter your numerical grage(out of 100)\"))\n",
    "if numerical_grade >=90:\n",
    "    print(\"A\")\n",
    "elif numerical_grade >=80:\n",
    "    print(\"B\")\n",
    "elif numerical_grade >=70:\n",
    "    print(\"c\")\n",
    "elif numerical_grade >=60:\n",
    "    print(\"d\")\n",
    "else:\n",
    "    print(\"J\")"
   ]
  },
  {
   "cell_type": "markdown",
   "id": "975b5140",
   "metadata": {},
   "source": [
    "#### Write a program that calculates the Body Mass Index (BMI) of a person. The user should input their weight in kilograms and height in meters. The program should then print whether the person is underweight, normal weight, overweight, or obese\n",
    "#### questio]n 3\n"
   ]
  },
  {
   "cell_type": "code",
   "execution_count": 9,
   "id": "9afdd101",
   "metadata": {},
   "outputs": [
    {
     "name": "stdout",
     "output_type": "stream",
     "text": [
      "enter your weight in kg:34\n",
      "enter you height in mts:32\n",
      "underweight\n"
     ]
    }
   ],
   "source": [
    "kg = int(input(\"enter your weight in kg:\"))\n",
    "m = float(input(\"enter you height in mts:\"))\n",
    "\n",
    "bmi = kg / (m **2 )\n",
    "if bmi <20:\n",
    "    print(\"underweight\")\n",
    "elif 20 <= bmi < 25:\n",
    "    print(\"normal weight\")\n",
    "elif 25 <= bmi <30:\n",
    "    print(\"overweight\")\n",
    "else:\n",
    "    print(\"obese\")\n",
    "    "
   ]
  },
  {
   "cell_type": "markdown",
   "id": "46894f88",
   "metadata": {},
   "source": [
    "##### Write a program that asks the user for three numbers and prints the maximum of the three.\n",
    "#### question 4"
   ]
  },
  {
   "cell_type": "code",
   "execution_count": 10,
   "id": "4e0eb79f",
   "metadata": {},
   "outputs": [
    {
     "name": "stdout",
     "output_type": "stream",
     "text": [
      "enter your number:32\n",
      "enter your second number:3\n",
      "enter your third number: 3\n"
     ]
    }
   ],
   "source": [
    "num1 = int(input(\"enter your number:\"))\n",
    "num2 = int(input(\"enter your second number:\"))\n",
    "num3 = int(input(\"enter your third number: \"))"
   ]
  },
  {
   "cell_type": "markdown",
   "id": "1add1248",
   "metadata": {},
   "source": [
    "###### Write a program that asks the user for a temperature (in Celsius) and prints \"It's freezing\" if the temperature is below 0, \"It's cool\" if it's between 0 and 10, \"It's warm\" if it's between 10 and 20, and \"It's hot\" if it's above 20\n",
    "##### question 5"
   ]
  },
  {
   "cell_type": "code",
   "execution_count": null,
   "id": "2537481f",
   "metadata": {},
   "outputs": [],
   "source": [
    "temperature = float(input(\"enter your temperature in celsius: \"))\n",
    "if temperature <0:\n",
    "    print(\"It's is freezing\")\n",
    "elif 0 <= temperature <=10:\n",
    "    print(\"It's cool\")\n",
    "elif 10 <temperature <=10:\n",
    "    print(\"It's warm\")\n",
    "else:\n",
    "    print(\"It's out\")\n",
    "    "
   ]
  },
  {
   "cell_type": "markdown",
   "id": "04b59b35",
   "metadata": {},
   "source": [
    "##### Write a program that asks the user for a number (1-7) and prints the corresponding day of the week.\n",
    "###### question 6"
   ]
  },
  {
   "cell_type": "code",
   "execution_count": 17,
   "id": "f127e5ce",
   "metadata": {},
   "outputs": [
    {
     "name": "stdout",
     "output_type": "stream",
     "text": [
      "Enter a number (1-7): 3\n",
      "The corresponding day is Tuesday.\n"
     ]
    }
   ],
   "source": [
    "\n",
    "day_number = int(input(\"Enter a number (1-7): \"))\n",
    "\n",
    "\n",
    "days_of_week = [\"Sunday\", \"Monday\", \"Tuesday\", \"Wednesday\", \"Thursday\", \"Friday\", \"Saturday\"]\n",
    "\n",
    "\n",
    "if 1 <= day_number <= 7:\n",
    "\n",
    "    day = days_of_week[day_number - 1]\n",
    "    print(f\"The corresponding day is {day}.\")\n",
    "else:\n",
    "    print(\"Invalid input. Please enter a number between 1 and 7.\")\n"
   ]
  },
  {
   "cell_type": "markdown",
   "id": "383ef61d",
   "metadata": {},
   "source": [
    "#### Write a program that asks the user for a number and prints \"In range\" if the number is between 10 and 20 (inclusive), and \"Out of range\" otherwise.\n",
    "\n",
    "##### question 7\n"
   ]
  },
  {
   "cell_type": "code",
   "execution_count": 12,
   "id": "bf44ad62",
   "metadata": {},
   "outputs": [
    {
     "name": "stdout",
     "output_type": "stream",
     "text": [
      "enter the number:12\n",
      "its in range\n"
     ]
    }
   ],
   "source": [
    "number = int(input(\"enter the number:\"))\n",
    "if 10 <= number <=20:\n",
    "    print (\"its in range\")\n",
    "else:\n",
    "    print(\"its not in the range\")"
   ]
  },
  {
   "cell_type": "markdown",
   "id": "c4ae3b2f",
   "metadata": {},
   "source": [
    "##### Write a program that asks the user for an integer and prints whether it's even or odd.###### \n",
    "###### question 8"
   ]
  },
  {
   "cell_type": "code",
   "execution_count": 16,
   "id": "b8788d0f",
   "metadata": {},
   "outputs": [
    {
     "name": "stdout",
     "output_type": "stream",
     "text": [
      "enter the integer:23\n",
      "number is not even\n"
     ]
    }
   ],
   "source": [
    "number = int(input(\"enter the integer:\"))\n",
    "if number %2 ==0:\n",
    "    print(\"number is even\")\n",
    "else:\n",
    "    print(\"number is not even\")"
   ]
  },
  {
   "cell_type": "markdown",
   "id": "425ea5a3",
   "metadata": {},
   "source": [
    "##### Create rock-paper-scissors by using the if condition.\n"
   ]
  },
  {
   "cell_type": "code",
   "execution_count": 18,
   "id": "1fb8c9d6",
   "metadata": {},
   "outputs": [
    {
     "name": "stdout",
     "output_type": "stream",
     "text": [
      "Player 1:2\n",
      "Player 2:2\n",
      "It's a tie!\n"
     ]
    }
   ],
   "source": [
    "player1 = input('Player 1:') \n",
    "player2 = input('Player 2:') \n",
    "if player1 == player2:\n",
    "    print(\"It's a tie!\")\n",
    "elif player1 == \"rock\":  \n",
    "    if player2 == \"scissors\": \n",
    "        print(\"Player 1 wins\") \n",
    "    else:\n",
    "        print(\"Player 2 wins\") \n",
    "elif player1 == \"paper\": \n",
    "    if player2 == \"rock\": \n",
    "        print(\"Player 1 wins\") \n",
    "    else: \n",
    "        print(\"Player 2 wins\") \n",
    "elif player1 == \"scissors\": \n",
    "    if player2 == \"paper\": \n",
    "        print(\"Player 1 wins\")\n",
    "    else: \n",
    "        print(\"Player 2 wins\") "
   ]
  },
  {
   "cell_type": "code",
   "execution_count": null,
   "id": "89081575",
   "metadata": {},
   "outputs": [],
   "source": []
  }
 ],
 "metadata": {
  "kernelspec": {
   "display_name": "Python 3 (ipykernel)",
   "language": "python",
   "name": "python3"
  },
  "language_info": {
   "codemirror_mode": {
    "name": "ipython",
    "version": 3
   },
   "file_extension": ".py",
   "mimetype": "text/x-python",
   "name": "python",
   "nbconvert_exporter": "python",
   "pygments_lexer": "ipython3",
   "version": "3.11.5"
  }
 },
 "nbformat": 4,
 "nbformat_minor": 5
}
